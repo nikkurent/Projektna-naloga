{
 "cells": [
  {
   "cell_type": "markdown",
   "metadata": {},
   "source": [
    "Avtor: **Nik Kurent, 23170389**\n",
    "\n",
    "Datum: 13. maj 2020\n",
    "\n",
    "*Potrjujem, da sem avtor projektne naloge in da sem vso vsebino pripravil sam. V primeru, da se ugotovi plagiatorstvo se zavedam, da ne bom izpolnjeval pogojev za pristop k izpitu.*"
   ]
  },
  {
   "cell_type": "markdown",
   "metadata": {},
   "source": [
    "---"
   ]
  },
  {
   "cell_type": "code",
   "execution_count": 1,
   "metadata": {},
   "outputs": [
    {
     "data": {
      "text/plain": [
       "['Enabling notebook extension toc2/main...', '      - Validating: ok']"
      ]
     },
     "execution_count": 1,
     "metadata": {},
     "output_type": "execute_result"
    }
   ],
   "source": [
    "# Namestitev toc2\n",
    "%sx conda install -c conda-forge jupyter_contrib_nbextensions -y\n",
    "%sx jupyter contrib nbextension install --user\n",
    "%sx jupyter nbextension enable toc2/main"
   ]
  },
  {
   "cell_type": "markdown",
   "metadata": {
    "toc": true
   },
   "source": [
    "<h1>Kazalo<span class=\"tocSkip\"></span></h1>\n",
    "<div class=\"toc\"><ul class=\"toc-item\"><li><span><a href=\"#Definicija-naloge\" data-toc-modified-id=\"Definicija-naloge-1\"><span class=\"toc-item-num\">1&nbsp;&nbsp;</span>Definicija naloge</a></span></li><li><span><a href=\"#Simbolno-reševanje\" data-toc-modified-id=\"Simbolno-reševanje-2\"><span class=\"toc-item-num\">2&nbsp;&nbsp;</span>Simbolno reševanje</a></span><ul class=\"toc-item\"><li><span><a href=\"#Računanje-reakcij-v-podporah:\" data-toc-modified-id=\"Računanje-reakcij-v-podporah:-2.1\"><span class=\"toc-item-num\">2.1&nbsp;&nbsp;</span>Računanje reakcij v podporah:</a></span></li><li><span><a href=\"#Računanje-prereza-nosilca\" data-toc-modified-id=\"Računanje-prereza-nosilca-2.2\"><span class=\"toc-item-num\">2.2&nbsp;&nbsp;</span>Računanje prereza nosilca</a></span></li><li><span><a href=\"#Izračun-vztrajnostnega-momenta-prereza\" data-toc-modified-id=\"Izračun-vztrajnostnega-momenta-prereza-2.3\"><span class=\"toc-item-num\">2.3&nbsp;&nbsp;</span>Izračun vztrajnostnega momenta prereza</a></span></li><li><span><a href=\"#Izračun-maksimalne-upogibne-napetosti\" data-toc-modified-id=\"Izračun-maksimalne-upogibne-napetosti-2.4\"><span class=\"toc-item-num\">2.4&nbsp;&nbsp;</span>Izračun maksimalne upogibne napetosti</a></span></li><li><span><a href=\"#Izračun-velikosti-povesa\" data-toc-modified-id=\"Izračun-velikosti-povesa-2.5\"><span class=\"toc-item-num\">2.5&nbsp;&nbsp;</span>Izračun velikosti povesa</a></span></li></ul></li><li><span><a href=\"#Sistemi-linearnih-enačb\" data-toc-modified-id=\"Sistemi-linearnih-enačb-3\"><span class=\"toc-item-num\">3&nbsp;&nbsp;</span>Sistemi linearnih enačb</a></span></li><li><span><a href=\"#Interpolacija\" data-toc-modified-id=\"Interpolacija-4\"><span class=\"toc-item-num\">4&nbsp;&nbsp;</span>Interpolacija</a></span></li><li><span><a href=\"#Reševanje-enačb-(iskanje-ničel)\" data-toc-modified-id=\"Reševanje-enačb-(iskanje-ničel)-5\"><span class=\"toc-item-num\">5&nbsp;&nbsp;</span>Reševanje enačb (iskanje ničel)</a></span></li><li><span><a href=\"#Odvajanje\" data-toc-modified-id=\"Odvajanje-6\"><span class=\"toc-item-num\">6&nbsp;&nbsp;</span>Odvajanje</a></span></li><li><span><a href=\"#Reševanje-diferencialnih-enačb\" data-toc-modified-id=\"Reševanje-diferencialnih-enačb-7\"><span class=\"toc-item-num\">7&nbsp;&nbsp;</span>Reševanje diferencialnih enačb</a></span></li><li><span><a href=\"#Viri\" data-toc-modified-id=\"Viri-8\"><span class=\"toc-item-num\">8&nbsp;&nbsp;</span>Viri</a></span></li></ul></div>"
   ]
  },
  {
   "cell_type": "markdown",
   "metadata": {},
   "source": [
    "---"
   ]
  },
  {
   "cell_type": "markdown",
   "metadata": {},
   "source": [
    "# Definicija naloge "
   ]
  },
  {
   "cell_type": "markdown",
   "metadata": {},
   "source": [
    "Na sliki je nosilec T profila, ki je obremenjen z silo F ter kontinuirno obremenitvijo q.\n",
    "\n",
    "izračunajte:\n",
    "\n",
    "* velikost maksimalne upogibne napetosti.\n",
    "* velikost povesa na koncu nosilca"
   ]
  },
  {
   "cell_type": "markdown",
   "metadata": {},
   "source": [
    "<img src=\"nosilec.png\" width=500>"
   ]
  },
  {
   "cell_type": "markdown",
   "metadata": {},
   "source": [
    "Podatki naloge so sledeči:\n",
    "\n",
    "* **q** = 3 $\\frac{kN}{m}$\n",
    "* **F** = 1.2 $kNm$\n",
    "* **a** = 6 m \n",
    "* **b** = 3.7 m\n",
    "* **E** = 210 N/mm^2\n",
    "* **v** = 68 mm\n",
    "* **Š** = 18 mm"
   ]
  },
  {
   "cell_type": "markdown",
   "metadata": {},
   "source": [
    "---"
   ]
  },
  {
   "cell_type": "code",
   "execution_count": 12,
   "metadata": {},
   "outputs": [
    {
     "name": "stdout",
     "output_type": "stream",
     "text": [
      "Requirement already satisfied: import_ipynb in c:\\programdata\\anaconda3\\lib\\site-packages (0.1.3)\n"
     ]
    }
   ],
   "source": [
    "#Uvoz knjižnic\n",
    "import sympy as sym\n",
    "import numpy as np\n",
    "import sympy as sym\n",
    "sym.init_printing()\n",
    "from sympy.abc import sigma\n",
    "import matplotlib.pyplot as plt\n",
    "%matplotlib inline\n",
    "from scipy.interpolate import interp1d\n",
    "from scipy.integrate import solve_bvp\n",
    "from scipy.optimize import root\n",
    "!pip install import_ipynb"
   ]
  },
  {
   "cell_type": "markdown",
   "metadata": {},
   "source": [
    "# Simbolno reševanje"
   ]
  },
  {
   "cell_type": "markdown",
   "metadata": {},
   "source": [
    "## Računanje reakcij v podporah:"
   ]
  },
  {
   "cell_type": "markdown",
   "metadata": {},
   "source": [
    "$$A_x = 0$$\n",
    "$$-A_z - B_z + F = 0$$\n",
    "$$B_z\\cdot a - F\\cdot (a + b) - q\\cdot a^2/2= 0$$"
   ]
  },
  {
   "cell_type": "markdown",
   "metadata": {},
   "source": [
    "Za simbono reševaje najprej definiramo spremenljivke. Ter nato zapišemo reakcije s pomočjo knjižnice symPy. Pri čemer lahko izpustimo reakcije v smeri x saj je njihova vrednost enaka 0"
   ]
  },
  {
   "cell_type": "code",
   "execution_count": 13,
   "metadata": {},
   "outputs": [],
   "source": [
    "q_sym, Az_sym, Bz_sym, E_sym, F_sym, a_sym, b_sym = sym.symbols('q, A_z, B_z, E, F, a, b')"
   ]
  },
  {
   "cell_type": "code",
   "execution_count": 14,
   "metadata": {},
   "outputs": [
    {
     "data": {
      "image/png": "[encoded data removed]",
      "text/latex": [
       "$\\displaystyle \\left( \\frac{F \\left(a + b\\right) + \\frac{a^{2} q}{2}}{a}, \\  F + a q - \\frac{F \\left(a + b\\right) + \\frac{a^{2} q}{2}}{a}\\right)$"
      ],
      "text/plain": [
       "⎛             2                           2  ⎞\n",
       "⎜            a ⋅q                        a ⋅q⎟\n",
       "⎜F⋅(a + b) + ────            F⋅(a + b) + ────⎟\n",
       "⎜             2                           2  ⎟\n",
       "⎜────────────────, F + a⋅q - ────────────────⎟\n",
       "⎝       a                           a        ⎠"
      ]
     },
     "execution_count": 14,
     "metadata": {},
     "output_type": "execute_result"
    }
   ],
   "source": [
    "#Reakcije \n",
    "Az_sym = (F_sym*(a_sym + b_sym) + q_sym*(a_sym**2)/2)/a_sym\n",
    "\n",
    "Bz_sym = F_sym - Az_sym + q_sym*a_sym\n",
    "\n",
    "Az_sym, Bz_sym"
   ]
  },
  {
   "cell_type": "markdown",
   "metadata": {},
   "source": [
    "Za numerični izračun nato substituiramo simbole z podatki."
   ]
  },
  {
   "cell_type": "code",
   "execution_count": 15,
   "metadata": {},
   "outputs": [],
   "source": [
    "podatki = {'F': 1.2 ,'q': 3, 'a':6, 'b':3.7, 'E':2100000}"
   ]
  },
  {
   "cell_type": "code",
   "execution_count": 16,
   "metadata": {},
   "outputs": [
    {
     "data": {
      "image/png": "[encoded data removed]",
      "text/latex": [
       "$\\displaystyle \\left( 10.94, \\  8.26\\right)$"
      ],
      "text/plain": [
       "(10.94, 8.26)"
      ]
     },
     "execution_count": 16,
     "metadata": {},
     "output_type": "execute_result"
    }
   ],
   "source": [
    "Az_num = Az_sym.subs(podatki).evalf()\n",
    "Bz_num = Bz_sym.subs(podatki).evalf()\n",
    "\n",
    "#Razultati so podani v kN\n",
    "Az_num, Bz_num"
   ]
  },
  {
   "cell_type": "markdown",
   "metadata": {},
   "source": [
    "## Računanje prereza nosilca"
   ]
  },
  {
   "cell_type": "markdown",
   "metadata": {},
   "source": [
    "Po izračunu reakcij v podporah, nato za izračun upogibne napetosti rabimo nosilec prerezati da ugotovimo maksimalen moment"
   ]
  },
  {
   "cell_type": "code",
   "execution_count": 17,
   "metadata": {},
   "outputs": [],
   "source": [
    "M, x = sym.symbols('M, x')"
   ]
  },
  {
   "cell_type": "code",
   "execution_count": 18,
   "metadata": {},
   "outputs": [
    {
     "data": {
      "image/png": "[encoded data removed]",
      "text/latex": [
       "$\\displaystyle - \\frac{q x^{2}}{2} + \\frac{x \\left(F \\left(a + b\\right) + \\frac{a^{2} q}{2}\\right)}{a}$"
      ],
      "text/plain": [
       "           ⎛             2  ⎞\n",
       "           ⎜            a ⋅q⎟\n",
       "     2   x⋅⎜F⋅(a + b) + ────⎟\n",
       "  q⋅x      ⎝             2  ⎠\n",
       "- ──── + ────────────────────\n",
       "   2              a          "
      ]
     },
     "execution_count": 18,
     "metadata": {},
     "output_type": "execute_result"
    }
   ],
   "source": [
    "#izračun momenta M(x)\n",
    "M = Az_sym*x - q_sym*(x**2)/2\n",
    "\n",
    "M"
   ]
  },
  {
   "cell_type": "code",
   "execution_count": 19,
   "metadata": {},
   "outputs": [
    {
     "data": {
      "image/png": "[encoded data removed]",
      "text/latex": [
       "$\\displaystyle 11.64$"
      ],
      "text/plain": [
       "11.6400000000000"
      ]
     },
     "execution_count": 19,
     "metadata": {},
     "output_type": "execute_result"
    }
   ],
   "source": [
    "Mmax = M.subs(podatki)\n",
    "Mmax = Mmax.subs(x,6).evalf()\n",
    "\n",
    "#Mmax pa v kNm\n",
    "Mmax"
   ]
  },
  {
   "cell_type": "markdown",
   "metadata": {},
   "source": [
    "## Izračun vztrajnostnega momenta prereza"
   ]
  },
  {
   "cell_type": "markdown",
   "metadata": {},
   "source": [
    "Pri dani nalogi moramo za izračun upogiba določiti vztrajnostni moment T nosilca. Ker se nosilec upogiba čez koordinatno os y, izračunamo vztrajnostni moment Iy.\n",
    "\n",
    "Potek izračuna:\n",
    "* nosilec razdelimo na 2 pravokotnika\n",
    "* za posamezen pravokotnik izračunamo težišče ter vztrajnostni moment\n",
    "* z Stainerjevim pravilom izračunamo skupen vztrajnostni moment Iy"
   ]
  },
  {
   "cell_type": "code",
   "execution_count": 20,
   "metadata": {},
   "outputs": [],
   "source": [
    "t_z, v, š, A, t_s, t, Iys, Iyz, Iy, = sym.symbols('t_z, v, š, A, t_s, t, Iys, Iyz, Iy')"
   ]
  },
  {
   "cell_type": "code",
   "execution_count": 21,
   "metadata": {},
   "outputs": [
    {
     "data": {
      "image/png": "[encoded data removed]",
      "text/latex": [
       "$\\displaystyle \\left( \\frac{3 v}{4} + \\frac{š}{4}, \\  \\frac{111}{2}\\right)$"
      ],
      "text/plain": [
       "⎛3⋅v   š       ⎞\n",
       "⎜─── + ─, 111/2⎟\n",
       "⎝ 4    4       ⎠"
      ]
     },
     "execution_count": 21,
     "metadata": {},
     "output_type": "execute_result"
    }
   ],
   "source": [
    "podatki2 = {v:68, š:18, A:1224}\n",
    "\n",
    "#Zgornji pravokotnik\n",
    "t_z = v/2\n",
    "tz_num = t_z.subs(podatki2)\n",
    "\n",
    "#Spodnji pravokotnik\n",
    "t_s = v + š/2\n",
    "ts_num = t_s.subs(podatki2)\n",
    "\n",
    "#skupno težišče\n",
    "t = (t_z*A + t_s*A)/(2*A)\n",
    "t_num  = t.subs(podatki2)\n",
    "\n",
    "sym.simplify(t), t_num"
   ]
  },
  {
   "cell_type": "code",
   "execution_count": 22,
   "metadata": {},
   "outputs": [
    {
     "data": {
      "image/png": "[encoded data removed]",
      "text/latex": [
       "$\\displaystyle \\left( \\frac{A \\left(- v - š\\right)^{2}}{16} + \\frac{v^{3} š}{12}, \\  1037442\\right)$"
      ],
      "text/plain": [
       "⎛          2    3           ⎞\n",
       "⎜A⋅(-v - š)    v ⋅š         ⎟\n",
       "⎜─────────── + ────, 1037442⎟\n",
       "⎝     16        12          ⎠"
      ]
     },
     "execution_count": 22,
     "metadata": {},
     "output_type": "execute_result"
    }
   ],
   "source": [
    "#vztrajnostni moment zgornjega pravokotnika\n",
    "Iyz = (š*v**3)/12 + (t - t_z)**2 * A\n",
    "Iyz_num = Iyz.subs(podatki2)\n",
    "\n",
    "#Iyz je podan v mm^4\n",
    "sym.simplify(Iyz), Iyz_num"
   ]
  },
  {
   "cell_type": "code",
   "execution_count": 23,
   "metadata": {},
   "outputs": [
    {
     "data": {
      "image/png": "[encoded data removed]",
      "text/latex": [
       "$\\displaystyle \\left( \\frac{A \\left(v + š\\right)^{2}}{16} + \\frac{v š^{3}}{12}, \\  598842\\right)$"
      ],
      "text/plain": [
       "⎛         2      3        ⎞\n",
       "⎜A⋅(v + š)    v⋅š         ⎟\n",
       "⎜────────── + ────, 598842⎟\n",
       "⎝    16        12         ⎠"
      ]
     },
     "execution_count": 23,
     "metadata": {},
     "output_type": "execute_result"
    }
   ],
   "source": [
    "#vztrajnostni moment spodnjega pravokotnika\n",
    "Iys = (v*š**3)/12 + (t - t_s)**2 * A\n",
    "Iys_num = Iys.subs(podatki2)\n",
    "\n",
    "#Iys je podan v mm^4\n",
    "sym.simplify(Iys), Iys_num"
   ]
  },
  {
   "cell_type": "code",
   "execution_count": 24,
   "metadata": {},
   "outputs": [
    {
     "data": {
      "image/png": "[encoded data removed]",
      "text/latex": [
       "$\\displaystyle 1636284$"
      ],
      "text/plain": [
       "1636284"
      ]
     },
     "execution_count": 24,
     "metadata": {},
     "output_type": "execute_result"
    }
   ],
   "source": [
    "#vztrajnostni moment\n",
    "Iy = Iyz_num + Iys_num\n",
    "\n",
    "#Razultat podan v mm^4\n",
    "Iy"
   ]
  },
  {
   "cell_type": "markdown",
   "metadata": {},
   "source": [
    "Vztrajnostni moment lahko izračunamo na klasičen način kot je prikazano zgoraj. Poleg tega pa sem napisal tudi program, ki nam iz stranic pravokotnikov T nosilca, s pomočjo knjižnice selenium in pandas podatke vstavi v internetni kalkulator vztrajnostnih momentov internetne strani https://calcresource.com/cross-section-tee.html, ter nato vrednosti kot so površina, težišče, ter oba vztrajnostna momenta izpiše v obliki tabele.\n",
    "\n",
    "Za delovanje progama uporabljamo knjižnjico selenium, s pomočjo katere odpremo spletni brskalnik Chrome ter zgoraj navedeno spletno stran. Nato v spletni kalkulator avtomatsko vpiše podatke, ter jih s pomočjo knjižnice pandas nato tabelira."
   ]
  },
  {
   "cell_type": "code",
   "execution_count": 25,
   "metadata": {},
   "outputs": [
    {
     "name": "stdout",
     "output_type": "stream",
     "text": [
      "importing Jupyter notebook from Selenium.ipynb\n",
      "Requirement already satisfied: selenium in c:\\users\\nik7\\appdata\\roaming\\python\\python37\\site-packages (3.141.0)\n",
      "Requirement already satisfied: urllib3 in c:\\programdata\\anaconda3\\lib\\site-packages (from selenium) (1.25.8)\n"
     ]
    }
   ],
   "source": [
    "#Modul import_ipynb nam omogoča uvoziti funkcije končnic ipynb(jupyter notebook)\n",
    "import import_ipynb\n",
    "from Selenium import veličine_T"
   ]
  },
  {
   "cell_type": "markdown",
   "metadata": {},
   "source": [
    "Spletni kalkulator v svoje parametre sprejme celotno višino in širino nosilca, ter širino spodnjega in širino zgornjega dela pravokotnika, zato moramo naše podatke a in b preurediti."
   ]
  },
  {
   "cell_type": "code",
   "execution_count": 26,
   "metadata": {},
   "outputs": [
    {
     "name": "stdout",
     "output_type": "stream",
     "text": [
      "chromedriver is already installed.\n",
      "Installed chromedriver to path: C:\\Users\\nik7\\Desktop\\projektna-nik\\chromedriver\\chromedriver_83.0.4103.39.exe\n"
     ]
    },
    {
     "data": {
      "text/html": [
       "<div>\n",
       "<style scoped>\n",
       "    .dataframe tbody tr th:only-of-type {\n",
       "        vertical-align: middle;\n",
       "    }\n",
       "\n",
       "    .dataframe tbody tr th {\n",
       "        vertical-align: top;\n",
       "    }\n",
       "\n",
       "    .dataframe thead th {\n",
       "        text-align: right;\n",
       "    }\n",
       "</style>\n",
       "<table border=\"1\" class=\"dataframe\">\n",
       "  <thead>\n",
       "    <tr style=\"text-align: right;\">\n",
       "      <th></th>\n",
       "      <th>Višina</th>\n",
       "      <th>širina</th>\n",
       "      <th>tw</th>\n",
       "      <th>tf</th>\n",
       "      <th>površina</th>\n",
       "      <th>težišče</th>\n",
       "      <th>Ixx</th>\n",
       "      <th>Iyy[10^6]</th>\n",
       "    </tr>\n",
       "  </thead>\n",
       "  <tbody>\n",
       "    <tr>\n",
       "      <th>0</th>\n",
       "      <td>86</td>\n",
       "      <td>68</td>\n",
       "      <td>18</td>\n",
       "      <td>18</td>\n",
       "      <td>2448</td>\n",
       "      <td>55.5</td>\n",
       "      <td>504696</td>\n",
       "      <td>1.63628</td>\n",
       "    </tr>\n",
       "  </tbody>\n",
       "</table>\n",
       "</div>"
      ],
      "text/plain": [
       "   Višina  širina  tw  tf površina težišče     Ixx Iyy[10^6]\n",
       "0      86      68  18  18     2448    55.5  504696  1.63628 "
      ]
     },
     "execution_count": 26,
     "metadata": {},
     "output_type": "execute_result"
    }
   ],
   "source": [
    "veličine_T(86, 68, 18, 18)"
   ]
  },
  {
   "cell_type": "markdown",
   "metadata": {},
   "source": [
    "## Izračun maksimalne upogibne napetosti"
   ]
  },
  {
   "cell_type": "code",
   "execution_count": 27,
   "metadata": {},
   "outputs": [
    {
     "data": {
      "image/png": "[encoded data removed]",
      "text/latex": [
       "$\\displaystyle 394.809214048417$"
      ],
      "text/plain": [
       "394.809214048417"
      ]
     },
     "execution_count": 27,
     "metadata": {},
     "output_type": "execute_result"
    }
   ],
   "source": [
    "napetost_max = ((Mmax*t_num)/Iy)*10**6\n",
    "\n",
    "#napetost je podana v MPa\n",
    "napetost_max"
   ]
  },
  {
   "cell_type": "markdown",
   "metadata": {},
   "source": [
    "## Izračun velikosti povesa"
   ]
  },
  {
   "cell_type": "markdown",
   "metadata": {},
   "source": [
    "Za skupen poves nosilca poves razdelimo na poves zaradi sile na koncu nosilca ter na poves zaradi kontinuirane obremenitve q. ker nas zanima poves na koncu nosilca, moramo pri računanju povesa zaradi kontinuirane obremenitve najprej izračunati kot pod katerim obremenitev dviga drugi del nosilca. Nato pa lahko izračunamo še poves"
   ]
  },
  {
   "cell_type": "code",
   "execution_count": 28,
   "metadata": {},
   "outputs": [
    {
     "data": {
      "image/png": "[encoded data removed]",
      "text/latex": [
       "$\\displaystyle 0.618556701030928$"
      ],
      "text/plain": [
       "0.618556701030928"
      ]
     },
     "execution_count": 28,
     "metadata": {},
     "output_type": "execute_result"
    }
   ],
   "source": [
    "eta = a_sym/(a_sym + b_sym)\n",
    "eta_num = eta.subs(podatki)\n",
    "eta_num"
   ]
  },
  {
   "cell_type": "code",
   "execution_count": 29,
   "metadata": {},
   "outputs": [
    {
     "name": "stdout",
     "output_type": "stream",
     "text": [
      "poves zaradi sile F je -15.458 mm\n",
      "Upogib zaradi kontinuirane obremenitve pa 29.073 mm\n",
      "Celoten upogib na koncu elementa je 13.615 mm\n"
     ]
    }
   ],
   "source": [
    "#Poves zaradi sile\n",
    "w1 = -(((F_sym*10**3)*((a_sym+b_sym)*10**3)**3)*((1-eta)**2))/(3*E_sym*Iy)\n",
    "w1_num = w1.subs(podatki).evalf()\n",
    "\n",
    "\n",
    "#zasuk zaradi kontinuirane obremenitve\n",
    "alpha = (q_sym*(a_sym*10**3)**3)/(24*E_sym*Iy)\n",
    "alpha_num = alpha.subs(podatki).evalf()\n",
    "\n",
    "#Upogib na koncu nosilca, zaradi kontinuirane obremenitve\n",
    "w2 = (b_sym*10**3)*sym.tan(alpha)\n",
    "w2_num = w2.subs(podatki).evalf()\n",
    "\n",
    "print(f'poves zaradi sile F je {w1_num:6.3f} mm')\n",
    "print(f'Upogib zaradi kontinuirane obremenitve pa {w2_num:6.3f} mm')\n",
    "\n",
    "w = w2_num + w1_num\n",
    "\n",
    "print(f'Celoten upogib na koncu elementa je {w:6.3f} mm')"
   ]
  },
  {
   "cell_type": "markdown",
   "metadata": {},
   "source": [
    "---"
   ]
  },
  {
   "cell_type": "markdown",
   "metadata": {},
   "source": [
    "# Sistemi linearnih enačb "
   ]
  },
  {
   "cell_type": "markdown",
   "metadata": {},
   "source": [
    "Z sistemom linearnih enačb lahko sedaj preverimo izračun reakcij oziroma podpor."
   ]
  },
  {
   "cell_type": "code",
   "execution_count": 30,
   "metadata": {},
   "outputs": [],
   "source": [
    "F = 1.2\n",
    "q = 3\n",
    "a = 6\n",
    "b = 3.7\n",
    "E = 2100000"
   ]
  },
  {
   "cell_type": "code",
   "execution_count": 31,
   "metadata": {},
   "outputs": [],
   "source": [
    "A_matrika = np.array([[1, 1], [0, a]])\n",
    "\n",
    "b_matrika = np.array([F + q*a, F*(a+b) + q*(a**2)/2])"
   ]
  },
  {
   "cell_type": "code",
   "execution_count": 32,
   "metadata": {},
   "outputs": [
    {
     "data": {
      "text/plain": [
       "array([ 8.26, 10.94])"
      ]
     },
     "execution_count": 32,
     "metadata": {},
     "output_type": "execute_result"
    }
   ],
   "source": [
    "rešitev = np.linalg.solve(A_matrika, b_matrika)\n",
    "rešitev"
   ]
  },
  {
   "cell_type": "markdown",
   "metadata": {},
   "source": [
    "---"
   ]
  },
  {
   "cell_type": "markdown",
   "metadata": {},
   "source": [
    "# Interpolacija"
   ]
  },
  {
   "cell_type": "markdown",
   "metadata": {},
   "source": [
    "S pomočjo izračunanih dveh točk povesov, ter poznanja, da sta vrednosti povesa v točkah podpor enake 0,\n",
    "lahko z interpolacijo prikažemo približno obnašanje nosilca zaradi zunanjih obremenitev."
   ]
  },
  {
   "cell_type": "code",
   "execution_count": 33,
   "metadata": {},
   "outputs": [],
   "source": [
    "#podatki pretvorjeni v druge enote\n",
    "a = 6000      #[mm]\n",
    "b = 3700      #[mm]\n",
    "F = 1200      #[N]\n",
    "q = 3         #[N/mm]\n",
    "E = 2100000   #[MPa]\n",
    "Iy = 1636284  #[mm^4]\n",
    "L = 9700      #[mm]\n",
    "eta = a/L     #[/]"
   ]
  },
  {
   "cell_type": "code",
   "execution_count": 34,
   "metadata": {},
   "outputs": [
    {
     "data": {
      "text/plain": [
       "array([  0.        , -11.74882181,   0.        ,  13.61530325])"
      ]
     },
     "execution_count": 34,
     "metadata": {},
     "output_type": "execute_result"
    }
   ],
   "source": [
    "#Izračuna točke povesa, ki jih shrani v obliki numeričnega polja\n",
    "    \n",
    "#poves zaradi sile F\n",
    "wa = 0\n",
    "w0 = ((F*(L**3)*(1-eta)*eta**2)/(9*(np.sqrt(3))*E*Iy))\n",
    "wb = 0\n",
    "w1 = -((F*(a+b)**3)*((1-eta)**2))/(3*E*Iy)\n",
    "\n",
    "numerično_polje_1 = np.array([wa, w0, wb, w1])\n",
    "\n",
    "    \n",
    "#Poves zaradi kontinuirane obremenitve q\n",
    "wa = 0\n",
    "w0 = -(5*q*a**4)/(384*E*Iy)\n",
    "wb = 0\n",
    "alpha = (q*a**3)/(24*E*Iy)\n",
    "w1 = b*np.tan(alpha)\n",
    "\n",
    "numerično_polje_2 = np.array([wa, w0, wb, w1])\n",
    "    \n",
    "    \n",
    "#Skupni poves\n",
    "numerično_polje_s = numerično_polje_2 + numerično_polje_1\n",
    "numerično_polje_s"
   ]
  },
  {
   "cell_type": "code",
   "execution_count": 35,
   "metadata": {},
   "outputs": [],
   "source": [
    "y = numerično_polje_s\n",
    "x = np.array([0, 3000, 6000, 9400])"
   ]
  },
  {
   "cell_type": "code",
   "execution_count": 36,
   "metadata": {},
   "outputs": [
    {
     "data": {
      "image/png": "[encoded data removed]",
      "text/plain": [
       "<Figure size 432x288 with 1 Axes>"
      ]
     },
     "metadata": {
      "needs_background": "light"
     },
     "output_type": "display_data"
    }
   ],
   "source": [
    "f = interp1d(x, y, kind='quadratic') #uporabimo kvadratične zlepke saj se te najbolj približajo povesu\n",
    "x_g = np.linspace(0, 9400, 100) #definiramo numerično polje z katerim narišemo graf\n",
    "plt.axhline(y=0, xmin=0.04, xmax=0.94, color='r', linestyle='-', label='neobremenjen nosilec')\n",
    "plt.plot(x, y, 'o', label='Interpolacijske točke')\n",
    "plt.plot(x_g, f(x_g), '-', label='Poves nosilca')\n",
    "plt.legend();"
   ]
  },
  {
   "cell_type": "markdown",
   "metadata": {},
   "source": [
    "---"
   ]
  },
  {
   "cell_type": "markdown",
   "metadata": {},
   "source": [
    "# Reševanje enačb (iskanje ničel)"
   ]
  },
  {
   "cell_type": "markdown",
   "metadata": {},
   "source": [
    "Ničle sistema, so tiste točke, pri katerih graf seka x-os. V našem primeru lahko te razberemo že iz definicije naloge. Ničle so v točkah podpor. Vendar pa lahko te določimo tudi z metodo optimize.root, kjer v funkcijo podano enačbo funkcije f, ter razdaljo kjer mislimo, da se ničle nahajajo."
   ]
  },
  {
   "cell_type": "code",
   "execution_count": 37,
   "metadata": {},
   "outputs": [
    {
     "data": {
      "text/plain": [
       "array([0.])"
      ]
     },
     "execution_count": 37,
     "metadata": {},
     "output_type": "execute_result"
    }
   ],
   "source": [
    "#Prva ničla\n",
    "ničla_1 = root(f, 0)\n",
    "\n",
    "#podajanje le razultata, ki nas zanima\n",
    "ničla_1['x']"
   ]
  },
  {
   "cell_type": "code",
   "execution_count": 38,
   "metadata": {},
   "outputs": [
    {
     "data": {
      "text/plain": [
       "array([6000.])"
      ]
     },
     "execution_count": 38,
     "metadata": {},
     "output_type": "execute_result"
    }
   ],
   "source": [
    "#Druga ničla\n",
    "ničla_2 = root(f, 6000)\n",
    "ničla_2['x']"
   ]
  },
  {
   "cell_type": "markdown",
   "metadata": {},
   "source": [
    "---"
   ]
  },
  {
   "cell_type": "markdown",
   "metadata": {},
   "source": [
    "# Odvajanje"
   ]
  },
  {
   "cell_type": "markdown",
   "metadata": {},
   "source": [
    "Z odvajanjem funkcije f, ki smo jo predhodno interpolirali, lahko z prvim odvodom določimo naklon tangente nosilca. Za odvajanje bomo uporabili funkcijo numpy.gradient, v katero vstavimo funkcijo ter vrednost po kateri jo bomo odvajali."
   ]
  },
  {
   "cell_type": "code",
   "execution_count": 39,
   "metadata": {},
   "outputs": [
    {
     "data": {
      "text/plain": [
       "[<matplotlib.lines.Line2D at 0x29999ccef48>]"
      ]
     },
     "execution_count": 39,
     "metadata": {},
     "output_type": "execute_result"
    },
    {
     "data": {
      "image/png": "[encoded data removed]",
      "text/plain": [
       "<Figure size 432x288 with 1 Axes>"
      ]
     },
     "metadata": {
      "needs_background": "light"
     },
     "output_type": "display_data"
    }
   ],
   "source": [
    "#Pripravimo funkcijo povesa nosilca v odvisnosti z dolžino\n",
    "funkcija = f(x)\n",
    "\n",
    "#Odvod funkcije po dolžini. Parameter edge order ni poterben pri odvajanju prvega reda\n",
    "odvod = np.gradient(funkcija, x, edge_order=1)\n",
    "\n",
    "#Grafični prikaz naklona\n",
    "plt.plot(x, odvod)"
   ]
  },
  {
   "cell_type": "markdown",
   "metadata": {},
   "source": [
    "Iz grafa lahko sedaj razberemo da je največji naklon pri razdalji 0, ter od druge podpore naprej. Razultati se torej skladajo z logiko saj je največji naklon pri podporah, od druge podpore naprej pa je zaradi ravnega nosilca naklon konstanten."
   ]
  },
  {
   "cell_type": "markdown",
   "metadata": {},
   "source": [
    "---"
   ]
  },
  {
   "cell_type": "markdown",
   "metadata": {},
   "source": [
    "# Reševanje diferencialnih enačb"
   ]
  },
  {
   "cell_type": "markdown",
   "metadata": {},
   "source": [
    "Za diferencialne enačbe pa me zanima kakšen bi bil poves nosilca če bi ta izgledal malo drugače. Tokrat je nosilec obremenjen le z kontinuirano obremenitvijo in na vsaki strani podprt z podporama."
   ]
  },
  {
   "cell_type": "markdown",
   "metadata": {},
   "source": [
    "<img src=\"nosilec2.png\" width=500>"
   ]
  },
  {
   "cell_type": "code",
   "execution_count": 40,
   "metadata": {},
   "outputs": [],
   "source": [
    "#Podatki\n",
    "E = 2100000 #N/mm^2\n",
    "I = 5.0e6 #mm^4\n",
    "l = 8000 #mm\n",
    "q = 1.5 #N/mm\n",
    "x = np.linspace(0, l, 20)"
   ]
  },
  {
   "cell_type": "code",
   "execution_count": 41,
   "metadata": {},
   "outputs": [],
   "source": [
    "#Funkcija porazdeljene obremenitve (pri vsaki vrednosti neodvisne spremenljivke x)\n",
    "def obremenitev(x, q=q):\n",
    "    return np.ones_like(x)*-q"
   ]
  },
  {
   "cell_type": "code",
   "execution_count": 42,
   "metadata": {},
   "outputs": [],
   "source": [
    "#Funkcija prvih odvodov novo vpeljanih spremenljivk\n",
    "def nosilec(x,y,E=E, I=I, q=q):\n",
    "    return np.array([y[1],y[2],y[3], obremenitev(x)/(E*I)])"
   ]
  },
  {
   "cell_type": "code",
   "execution_count": 43,
   "metadata": {},
   "outputs": [],
   "source": [
    "#definicija robnih pogojev- vrednosti, ki morajo biti 0 na robovih A in B\n",
    "def robni_preostanki(y_A, y_B):\n",
    "    return np.array([y_A[0],y_A[2],y_B[0],y_B[2]])"
   ]
  },
  {
   "cell_type": "code",
   "execution_count": 44,
   "metadata": {},
   "outputs": [],
   "source": [
    "#Začetne vrednosti\n",
    "y0 = np.zeros((4, x.size), dtype=float)\n",
    "y0[1] = 1. \n",
    "y0[3] = 1. "
   ]
  },
  {
   "cell_type": "code",
   "execution_count": 45,
   "metadata": {},
   "outputs": [],
   "source": [
    "rešitev = solve_bvp(nosilec, robni_preostanki, x=x, y=y0)"
   ]
  },
  {
   "cell_type": "code",
   "execution_count": 46,
   "metadata": {
    "scrolled": true
   },
   "outputs": [
    {
     "data": {
      "image/png": "[encoded data removed]",
      "text/plain": [
       "<Figure size 432x288 with 1 Axes>"
      ]
     },
     "metadata": {
      "needs_background": "light"
     },
     "output_type": "display_data"
    }
   ],
   "source": [
    "plt.fill_between(rešitev.x, rešitev.y[0], label='Poves $w$')\n",
    "plt.title('POVES [mm]')\n",
    "plt.legend()\n",
    "plt.show()"
   ]
  },
  {
   "cell_type": "markdown",
   "metadata": {},
   "source": [
    "# Viri"
   ]
  },
  {
   "cell_type": "markdown",
   "metadata": {},
   "source": [
    "* https://jankoslavic.github.io/pypinm.io/\n",
    "* http://www.geom.uiuc.edu/education/calc-init/static-beam/modeling.html\n",
    "* https://stackoverflow.com/\n",
    "* https://pypi.org/project/pyderman/\n",
    "* https://pypi.org/project/import-ipynb/\n",
    "* https://selenium-python.readthedocs.io/"
   ]
  }
 ],
 "metadata": {
  "anaconda-cloud": {},
  "kernelspec": {
   "display_name": "Python 3",
   "language": "python",
   "name": "python3"
  },
  "language_info": {
   "codemirror_mode": {
    "name": "ipython",
    "version": 3
   },
   "file_extension": ".py",
   "mimetype": "text/x-python",
   "name": "python",
   "nbconvert_exporter": "python",
   "pygments_lexer": "ipython3",
   "version": "3.7.6"
  },
  "latex_envs": {
   "bibliofile": "biblio.bib",
   "cite_by": "apalike",
   "current_citInitial": 1,
   "eqLabelWithNumbers": true,
   "eqNumInitial": 0
  },
  "nav_menu": {},
  "toc": {
   "base_numbering": 1,
   "nav_menu": {},
   "number_sections": true,
   "sideBar": true,
   "skip_h1_title": false,
   "title_cell": "Kazalo",
   "title_sidebar": "Kazalo",
   "toc_cell": true,
   "toc_position": {},
   "toc_section_display": "block",
   "toc_window_display": true
  }
 },
 "nbformat": 4,
 "nbformat_minor": 1
}
