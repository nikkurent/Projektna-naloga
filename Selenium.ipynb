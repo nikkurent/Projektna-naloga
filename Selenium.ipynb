{
 "cells": [
  {
   "cell_type": "code",
   "execution_count": 7,
   "metadata": {},
   "outputs": [
    {
     "name": "stdout",
     "output_type": "stream",
     "text": [
      "Requirement already satisfied: selenium in c:\\users\\nik7\\appdata\\roaming\\python\\python37\\site-packages (3.141.0)\n",
      "Requirement already satisfied: urllib3 in c:\\programdata\\anaconda3\\lib\\site-packages (from selenium) (1.25.8)\n"
     ]
    }
   ],
   "source": [
    "# import libraries\n",
    "! pip install --user selenium\n",
    "from selenium import webdriver\n",
    "import pandas as pd\n",
    "\n",
    "#Modul pyderman samodejno prenese chromedriver ter nam ga namesti v mapo chromedriver, s pomočjo katere nato pridemo željen brskalnik\n",
    "import pyderman as dr\n",
    "    "
   ]
  },
  {
   "cell_type": "code",
   "execution_count": 3,
   "metadata": {},
   "outputs": [],
   "source": [
    "def veličine_T(H, Š, tw, tf):\n",
    "    \"\"\"\n",
    "    Funkcija, ki nam izpiše tabelo vrednosti (površina, težišče, vztrajnostna momenta Iy, Iz),\n",
    "    pridobljenih iz spletnega brskalnika Chrome.\n",
    "    \n",
    "    Parametri:\n",
    "    H = Višina celotnega nosilca\n",
    "    Š = Širina celotnega nosilca\n",
    "    tw = Širina spodnjega dela nosilca\n",
    "    tf = Širina zgornjega dela nosilca\n",
    "    \n",
    "    returns:\n",
    "    tabela podatkov nosilca:\n",
    "    \n",
    "    višina\n",
    "    širina\n",
    "    tw\n",
    "    wf\n",
    "    površina\n",
    "    Ixx\n",
    "    Iyy  \n",
    "    \"\"\"\n",
    "    \n",
    "    #Prenese chromedriver ter ga namesti v mapo 'chromedriver'\n",
    "    browser = dr.install(browser=dr.chrome, file_directory='./chromedriver/', verbose=True, chmod=True, overwrite=False, version=None, filename=None, return_info=False)\n",
    "    print('Installed chromedriver to path: %s' % browser)\n",
    "    \n",
    "    #webdriver programu omogoča upravljanje z spletnim brskalnikom\n",
    "    browser = webdriver.Chrome('.\\chromedriver\\\\chromedriver_83.0.4103.39.exe')\n",
    "\n",
    "    #odpre link spletne strani\n",
    "    browser.get('https://calcresource.com/cross-section-tee.html')\n",
    "\n",
    "    #najde input box in vpiše dimenzije nosilca oz. parametre, ki smo jih vpisali\n",
    "    višina = browser.find_element_by_id('inpH')\n",
    "    višina.send_keys(H)\n",
    "\n",
    "    širina = browser.find_element_by_id('inpB')\n",
    "    širina.send_keys(Š)\n",
    "\n",
    "    širina_W = browser.find_element_by_id('inpTf')\n",
    "    širina_W.send_keys(tw)\n",
    "\n",
    "    širina_f = browser.find_element_by_id('inpTw')\n",
    "    širina_f.send_keys(tf)\n",
    "\n",
    "    #Izračunane veličine nato sharnimo v spodnje vrednosti\n",
    "    površina = browser.find_element_by_id('outA').text\n",
    "    težiščnica = browser.find_element_by_id('outYc').text\n",
    "    težiščnica = str(float(H) - float(težiščnica))              #razdalja težiščnice je vzeta iz zgornjega dela proti težišču\n",
    "    Ixx = browser.find_element_by_id('outIy').text              #V našem primeru sta smeri x in y zamenjani\n",
    "    Iyy = browser.find_element_by_id('outIx').text\n",
    "    \n",
    "    #Preuredimo za lepši izgled tabele\n",
    "    Iyy = Iyy.replace('x106', '')\n",
    "    \n",
    "    #Definiramo slovar, iz z knjižnico pandas ustvarimo tabelo vrednosti\n",
    "    element = {'Višina': H, 'širina': Š, 'tw': tw, 'tf': tf, 'površina': površina, 'težišče': težiščnica, 'Ixx': Ixx, 'Iyy[10^6]': Iyy}\n",
    "\n",
    "    df = pd.DataFrame(element, index=[0])\n",
    "    return df"
   ]
  },
  {
   "cell_type": "code",
   "execution_count": null,
   "metadata": {},
   "outputs": [],
   "source": []
  }
 ],
 "metadata": {
  "kernelspec": {
   "display_name": "Python 3",
   "language": "python",
   "name": "python3"
  },
  "language_info": {
   "codemirror_mode": {
    "name": "ipython",
    "version": 3
   },
   "file_extension": ".py",
   "mimetype": "text/x-python",
   "name": "python",
   "nbconvert_exporter": "python",
   "pygments_lexer": "ipython3",
   "version": "3.7.6"
  },
  "toc": {
   "base_numbering": 1,
   "nav_menu": {},
   "number_sections": true,
   "sideBar": true,
   "skip_h1_title": false,
   "title_cell": "Table of Contents",
   "title_sidebar": "Contents",
   "toc_cell": false,
   "toc_position": {},
   "toc_section_display": true,
   "toc_window_display": false
  }
 },
 "nbformat": 4,
 "nbformat_minor": 4
}
